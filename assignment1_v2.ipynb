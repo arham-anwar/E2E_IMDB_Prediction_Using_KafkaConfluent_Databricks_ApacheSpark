{
 "cells": [
  {
   "cell_type": "markdown",
   "metadata": {
    "application/vnd.databricks.v1+cell": {
     "cellMetadata": {},
     "inputWidgets": {},
     "nuid": "b2beb079-21ae-4709-bc25-83721056b94a",
     "showTitle": false,
     "title": ""
    }
   },
   "source": [
    "# 1. Setup "
   ]
  },
  {
   "cell_type": "markdown",
   "metadata": {
    "application/vnd.databricks.v1+cell": {
     "cellMetadata": {},
     "inputWidgets": {},
     "nuid": "b6439778-a9b2-447a-a96b-098c2e3d145e",
     "showTitle": false,
     "title": ""
    }
   },
   "source": [
    "1.1. - installing confluent-kafka package"
   ]
  },
  {
   "cell_type": "code",
   "execution_count": 0,
   "metadata": {
    "application/vnd.databricks.v1+cell": {
     "cellMetadata": {},
     "inputWidgets": {},
     "nuid": "b1cff71b-b0e8-4390-aa2f-30767d07d3f0",
     "showTitle": false,
     "title": ""
    }
   },
   "outputs": [],
   "source": [
    "!pip show confluent-kafka"
   ]
  },
  {
   "cell_type": "markdown",
   "metadata": {
    "application/vnd.databricks.v1+cell": {
     "cellMetadata": {},
     "inputWidgets": {},
     "nuid": "18f9c7db-b27c-4625-b140-bf2bb2878657",
     "showTitle": false,
     "title": ""
    }
   },
   "source": [
    "1.2. Topic "
   ]
  },
  {
   "cell_type": "code",
   "execution_count": 0,
   "metadata": {
    "application/vnd.databricks.v1+cell": {
     "cellMetadata": {
      "byteLimit": 2048000,
      "rowLimit": 10000
     },
     "inputWidgets": {},
     "nuid": "0765ed3d-b702-4024-8edf-956aa5554ee6",
     "showTitle": false,
     "title": ""
    }
   },
   "outputs": [],
   "source": [
    "bootstrap_servers = \"pkc-4rn2p.canadacentral.azure.confluent.cloud:9092\"\n",
    "topic_name = \"New_Topic\"\n",
    "\n"
   ]
  },
  {
   "cell_type": "code",
   "execution_count": 0,
   "metadata": {
    "application/vnd.databricks.v1+cell": {
     "cellMetadata": {
      "byteLimit": 2048000,
      "rowLimit": 10000
     },
     "inputWidgets": {},
     "nuid": "1ff4919e-a7e6-4243-b6e6-702aa225879c",
     "showTitle": false,
     "title": ""
    }
   },
   "outputs": [],
   "source": [
    "# Databricks notebook source\n",
    "import pyspark.sql.functions as F\n",
    "from  pyspark.sql.functions import col, struct, to_json\n",
    "from pyspark.sql.types import StructField, StructType, StringType, MapType\n"
   ]
  },
  {
   "cell_type": "markdown",
   "metadata": {
    "application/vnd.databricks.v1+cell": {
     "cellMetadata": {},
     "inputWidgets": {},
     "nuid": "6762ff32-50d1-4018-bcf5-6792b4d1330a",
     "showTitle": false,
     "title": ""
    }
   },
   "source": [
    "# 2. Batch Processing"
   ]
  },
  {
   "cell_type": "markdown",
   "metadata": {
    "application/vnd.databricks.v1+cell": {
     "cellMetadata": {},
     "inputWidgets": {},
     "nuid": "9d6e26a9-0ac7-4dfa-97ee-cf74935f514a",
     "showTitle": false,
     "title": ""
    }
   },
   "source": [
    "## 2.1. Create Batch Data"
   ]
  },
  {
   "cell_type": "code",
   "execution_count": 0,
   "metadata": {
    "application/vnd.databricks.v1+cell": {
     "cellMetadata": {
      "byteLimit": 2048000,
      "rowLimit": 10000
     },
     "inputWidgets": {},
     "nuid": "7c97b455-125a-43b2-9cba-1344ffad866b",
     "showTitle": false,
     "title": ""
    }
   },
   "outputs": [
    {
     "output_type": "stream",
     "name": "stdout",
     "output_type": "stream",
     "text": [
      "root\n |-- name: string (nullable = true)\n |-- occupation: string (nullable = true)\n\n+----------+----------+\n|name      |occupation|\n+----------+----------+\n|James     |driver    |\n|Michael   |teacher   |\n|Robert    |engineer  |\n|Washington|architect |\n|Jefferson |CEO       |\n+----------+----------+\n\n"
     ]
    }
   ],
   "source": [
    "dataDictionary = [\n",
    "        ('James','driver'),\n",
    "        ('Michael','teacher'),\n",
    "        ('Robert','engineer'),\n",
    "        ('Washington','architect'),\n",
    "        ('Jefferson','CEO')\n",
    "        ]\n",
    "df = spark.createDataFrame(data=dataDictionary, schema = [\"name\",\"occupation\"])\n",
    "df.printSchema()\n",
    "df.show(truncate=False)"
   ]
  },
  {
   "cell_type": "code",
   "execution_count": 0,
   "metadata": {
    "application/vnd.databricks.v1+cell": {
     "cellMetadata": {
      "byteLimit": 2048000,
      "rowLimit": 10000
     },
     "inputWidgets": {},
     "nuid": "eac4d799-9ddb-401b-bf2c-c8f532c6722d",
     "showTitle": false,
     "title": ""
    }
   },
   "outputs": [
    {
     "output_type": "display_data",
     "data": {
      "text/html": [
       "<style scoped>\n",
       "  .table-result-container {\n",
       "    max-height: 300px;\n",
       "    overflow: auto;\n",
       "  }\n",
       "  table, th, td {\n",
       "    border: 1px solid black;\n",
       "    border-collapse: collapse;\n",
       "  }\n",
       "  th, td {\n",
       "    padding: 5px;\n",
       "  }\n",
       "  th {\n",
       "    text-align: left;\n",
       "  }\n",
       "</style><div class='table-result-container'><table class='table-result'><thead style='background-color: white'><tr><th>key</th><th>value</th></tr></thead><tbody><tr><td>James</td><td>{\"name\":\"James\",\"occupation\":\"driver\"}</td></tr><tr><td>Michael</td><td>{\"name\":\"Michael\",\"occupation\":\"teacher\"}</td></tr><tr><td>Robert</td><td>{\"name\":\"Robert\",\"occupation\":\"engineer\"}</td></tr><tr><td>Washington</td><td>{\"name\":\"Washington\",\"occupation\":\"architect\"}</td></tr><tr><td>Jefferson</td><td>{\"name\":\"Jefferson\",\"occupation\":\"CEO\"}</td></tr></tbody></table></div>"
      ]
     },
     "metadata": {
      "application/vnd.databricks.v1+output": {
       "addedWidgets": {},
       "aggData": [],
       "aggError": "",
       "aggOverflow": false,
       "aggSchema": [],
       "aggSeriesLimitReached": false,
       "aggType": "",
       "arguments": {},
       "columnCustomDisplayInfos": {},
       "data": [
        [
         "James",
         "{\"name\":\"James\",\"occupation\":\"driver\"}"
        ],
        [
         "Michael",
         "{\"name\":\"Michael\",\"occupation\":\"teacher\"}"
        ],
        [
         "Robert",
         "{\"name\":\"Robert\",\"occupation\":\"engineer\"}"
        ],
        [
         "Washington",
         "{\"name\":\"Washington\",\"occupation\":\"architect\"}"
        ],
        [
         "Jefferson",
         "{\"name\":\"Jefferson\",\"occupation\":\"CEO\"}"
        ]
       ],
       "datasetInfos": [],
       "dbfsResultPath": null,
       "isJsonSchema": true,
       "metadata": {},
       "overflow": false,
       "plotOptions": {
        "customPlotOptions": {},
        "displayType": "table",
        "pivotAggregation": null,
        "pivotColumns": null,
        "xColumns": null,
        "yColumns": null
       },
       "removedWidgets": [],
       "schema": [
        {
         "metadata": "{}",
         "name": "key",
         "type": "\"string\""
        },
        {
         "metadata": "{}",
         "name": "value",
         "type": "\"string\""
        }
       ],
       "type": "table"
      }
     },
     "output_type": "display_data"
    }
   ],
   "source": [
    "# COMMAND ----------\n",
    "\n",
    "#display input data\n",
    "df2 = df.selectExpr(\"name AS key\", \"to_json(struct(*)) AS value\")\n",
    "display(df2)"
   ]
  },
  {
   "cell_type": "markdown",
   "metadata": {
    "application/vnd.databricks.v1+cell": {
     "cellMetadata": {},
     "inputWidgets": {},
     "nuid": "79f9bfe5-5fe0-4b9e-be87-fd5e4fc62e11",
     "showTitle": false,
     "title": ""
    }
   },
   "source": [
    "## 2.2 Write Batch data"
   ]
  },
  {
   "cell_type": "code",
   "execution_count": 0,
   "metadata": {
    "application/vnd.databricks.v1+cell": {
     "cellMetadata": {
      "byteLimit": 2048000,
      "rowLimit": 10000
     },
     "inputWidgets": {},
     "nuid": "6dc9864e-cf4e-4ef4-a249-7f0bb50eb7d2",
     "showTitle": false,
     "title": ""
    }
   },
   "outputs": [],
   "source": [
    "# write to topic\n",
    "(df.selectExpr(\"name AS key\", \"to_json(struct(*)) AS value\") \\\n",
    "  .write \\\n",
    "  .format(\"kafka\") \\\n",
    "  .option(\"kafka.bootstrap.servers\", bootstrap_servers) \\\n",
    "  .option(\"topic\", topic_name) \\\n",
    "  .option(\"kafka.security.protocol\",\"SASL_SSL\") \\\n",
    "  .option(\"kafka.sasl.mechanism\", \"PLAIN\") \\\n",
    "  .option(\"kafka.sasl.jaas.config\", \"\"\"kafkashaded.org.apache.kafka.common.security.plain.PlainLoginModule required username=\"6K7GG3OYQ7RUIEHR\" password=\"Cts0b2WPh8+WTVLypXyidYNBxh9YagMtzrmLX21y4DFVs8Xm6+++Z2G38f1eSTK6\";\"\"\") \\\n",
    "  .save()\n",
    ")"
   ]
  },
  {
   "cell_type": "markdown",
   "metadata": {
    "application/vnd.databricks.v1+cell": {
     "cellMetadata": {},
     "inputWidgets": {},
     "nuid": "c56a3aa0-b473-4405-903f-6677a20954b7",
     "showTitle": false,
     "title": ""
    }
   },
   "source": [
    "## 2.3 read batch data "
   ]
  },
  {
   "cell_type": "code",
   "execution_count": 0,
   "metadata": {
    "application/vnd.databricks.v1+cell": {
     "cellMetadata": {
      "byteLimit": 2048000,
      "rowLimit": 10000
     },
     "inputWidgets": {},
     "nuid": "46acecbe-dade-4b51-87d2-d7105b55aea5",
     "showTitle": false,
     "title": ""
    }
   },
   "outputs": [
    {
     "output_type": "display_data",
     "data": {
      "text/html": [
       "<style scoped>\n",
       "  .table-result-container {\n",
       "    max-height: 300px;\n",
       "    overflow: auto;\n",
       "  }\n",
       "  table, th, td {\n",
       "    border: 1px solid black;\n",
       "    border-collapse: collapse;\n",
       "  }\n",
       "  th, td {\n",
       "    padding: 5px;\n",
       "  }\n",
       "  th {\n",
       "    text-align: left;\n",
       "  }\n",
       "</style><div class='table-result-container'><table class='table-result'><thead style='background-color: white'><tr><th>key</th><th>value</th><th>topic</th><th>partition</th><th>offset</th><th>timestamp</th><th>timestampType</th></tr></thead><tbody><tr><td>V2FzaGluZ3Rvbg==</td><td>eyJuYW1lIjoiV2FzaGluZ3RvbiIsIm9jY3VwYXRpb24iOiJhcmNoaXRlY3QifQ==</td><td>New_Topic</td><td>2</td><td>0</td><td>2024-03-31T07:11:34.701+0000</td><td>0</td></tr><tr><td>SmVmZmVyc29u</td><td>eyJuYW1lIjoiSmVmZmVyc29uIiwib2NjdXBhdGlvbiI6IkNFTyJ9</td><td>New_Topic</td><td>2</td><td>1</td><td>2024-03-31T07:11:34.701+0000</td><td>0</td></tr><tr><td>Um9iZXJ0</td><td>eyJuYW1lIjoiUm9iZXJ0Iiwib2NjdXBhdGlvbiI6ImVuZ2luZWVyIn0=</td><td>New_Topic</td><td>1</td><td>0</td><td>2024-03-31T07:11:34.701+0000</td><td>0</td></tr><tr><td>SmFtZXM=</td><td>eyJuYW1lIjoiSmFtZXMiLCJvY2N1cGF0aW9uIjoiZHJpdmVyIn0=</td><td>New_Topic</td><td>1</td><td>1</td><td>2024-03-31T07:11:34.701+0000</td><td>0</td></tr><tr><td>TWljaGFlbA==</td><td>eyJuYW1lIjoiTWljaGFlbCIsIm9jY3VwYXRpb24iOiJ0ZWFjaGVyIn0=</td><td>New_Topic</td><td>1</td><td>2</td><td>2024-03-31T07:11:34.699+0000</td><td>0</td></tr></tbody></table></div>"
      ]
     },
     "metadata": {
      "application/vnd.databricks.v1+output": {
       "addedWidgets": {},
       "aggData": [],
       "aggError": "",
       "aggOverflow": false,
       "aggSchema": [],
       "aggSeriesLimitReached": false,
       "aggType": "",
       "arguments": {},
       "columnCustomDisplayInfos": {},
       "data": [
        [
         "V2FzaGluZ3Rvbg==",
         "eyJuYW1lIjoiV2FzaGluZ3RvbiIsIm9jY3VwYXRpb24iOiJhcmNoaXRlY3QifQ==",
         "New_Topic",
         2,
         0,
         "2024-03-31T07:11:34.701+0000",
         0
        ],
        [
         "SmVmZmVyc29u",
         "eyJuYW1lIjoiSmVmZmVyc29uIiwib2NjdXBhdGlvbiI6IkNFTyJ9",
         "New_Topic",
         2,
         1,
         "2024-03-31T07:11:34.701+0000",
         0
        ],
        [
         "Um9iZXJ0",
         "eyJuYW1lIjoiUm9iZXJ0Iiwib2NjdXBhdGlvbiI6ImVuZ2luZWVyIn0=",
         "New_Topic",
         1,
         0,
         "2024-03-31T07:11:34.701+0000",
         0
        ],
        [
         "SmFtZXM=",
         "eyJuYW1lIjoiSmFtZXMiLCJvY2N1cGF0aW9uIjoiZHJpdmVyIn0=",
         "New_Topic",
         1,
         1,
         "2024-03-31T07:11:34.701+0000",
         0
        ],
        [
         "TWljaGFlbA==",
         "eyJuYW1lIjoiTWljaGFlbCIsIm9jY3VwYXRpb24iOiJ0ZWFjaGVyIn0=",
         "New_Topic",
         1,
         2,
         "2024-03-31T07:11:34.699+0000",
         0
        ]
       ],
       "datasetInfos": [],
       "dbfsResultPath": null,
       "isJsonSchema": true,
       "metadata": {},
       "overflow": false,
       "plotOptions": {
        "customPlotOptions": {},
        "displayType": "table",
        "pivotAggregation": null,
        "pivotColumns": null,
        "xColumns": null,
        "yColumns": null
       },
       "removedWidgets": [],
       "schema": [
        {
         "metadata": "{}",
         "name": "key",
         "type": "\"binary\""
        },
        {
         "metadata": "{}",
         "name": "value",
         "type": "\"binary\""
        },
        {
         "metadata": "{}",
         "name": "topic",
         "type": "\"string\""
        },
        {
         "metadata": "{}",
         "name": "partition",
         "type": "\"integer\""
        },
        {
         "metadata": "{}",
         "name": "offset",
         "type": "\"long\""
        },
        {
         "metadata": "{}",
         "name": "timestamp",
         "type": "\"timestamp\""
        },
        {
         "metadata": "{}",
         "name": "timestampType",
         "type": "\"integer\""
        }
       ],
       "type": "table"
      }
     },
     "output_type": "display_data"
    }
   ],
   "source": [
    "# read messages\n",
    "#read from topic\n",
    "dfread = spark \\\n",
    "    .read \\\n",
    "    .format(\"kafka\") \\\n",
    "    .option(\"kafka.bootstrap.servers\", bootstrap_servers) \\\n",
    "    .option(\"subscribe\", topic_name) \\\n",
    "    .option(\"startingOffsets\", \"earliest\") \\\n",
    "    .option(\"endingOffsets\", \"latest\")  \\\n",
    "    .option(\"kafka.security.protocol\",\"SASL_SSL\") \\\n",
    "    .option(\"kafka.sasl.mechanism\", \"PLAIN\") \\\n",
    "    .option(\"kafka.sasl.jaas.config\", \"\"\"kafkashaded.org.apache.kafka.common.security.plain.PlainLoginModule required username=\"6K7GG3OYQ7RUIEHR\" password=\"Cts0b2WPh8+WTVLypXyidYNBxh9YagMtzrmLX21y4DFVs8Xm6+++Z2G38f1eSTK6\";\"\"\") \\\n",
    "    .load()\n",
    "display(dfread)"
   ]
  },
  {
   "cell_type": "code",
   "execution_count": 0,
   "metadata": {
    "application/vnd.databricks.v1+cell": {
     "cellMetadata": {
      "byteLimit": 2048000,
      "rowLimit": 10000
     },
     "inputWidgets": {},
     "nuid": "eedc7cf2-6244-4f55-b10e-0b576bf052f5",
     "showTitle": false,
     "title": ""
    }
   },
   "outputs": [],
   "source": [
    "json_schema = StructType(\n",
    "    [   StructField(\"name\", StringType(), True),\n",
    "        StructField(\"occupation\", StringType(), True)\n",
    "    ]\n",
    ")"
   ]
  },
  {
   "cell_type": "code",
   "execution_count": 0,
   "metadata": {
    "application/vnd.databricks.v1+cell": {
     "cellMetadata": {
      "byteLimit": 2048000,
      "rowLimit": 10000
     },
     "inputWidgets": {},
     "nuid": "9b7d5a62-e3eb-4154-8eb4-c78aaea447f1",
     "showTitle": false,
     "title": ""
    }
   },
   "outputs": [
    {
     "output_type": "display_data",
     "data": {
      "text/html": [
       "<style scoped>\n",
       "  .table-result-container {\n",
       "    max-height: 300px;\n",
       "    overflow: auto;\n",
       "  }\n",
       "  table, th, td {\n",
       "    border: 1px solid black;\n",
       "    border-collapse: collapse;\n",
       "  }\n",
       "  th, td {\n",
       "    padding: 5px;\n",
       "  }\n",
       "  th {\n",
       "    text-align: left;\n",
       "  }\n",
       "</style><div class='table-result-container'><table class='table-result'><thead style='background-color: white'><tr><th>name</th><th>occupation</th></tr></thead><tbody><tr><td>Washington</td><td>architect</td></tr><tr><td>Jefferson</td><td>CEO</td></tr><tr><td>Robert</td><td>engineer</td></tr><tr><td>James</td><td>driver</td></tr><tr><td>Michael</td><td>teacher</td></tr></tbody></table></div>"
      ]
     },
     "metadata": {
      "application/vnd.databricks.v1+output": {
       "addedWidgets": {},
       "aggData": [],
       "aggError": "",
       "aggOverflow": false,
       "aggSchema": [],
       "aggSeriesLimitReached": false,
       "aggType": "",
       "arguments": {},
       "columnCustomDisplayInfos": {},
       "data": [
        [
         "Washington",
         "architect"
        ],
        [
         "Jefferson",
         "CEO"
        ],
        [
         "Robert",
         "engineer"
        ],
        [
         "James",
         "driver"
        ],
        [
         "Michael",
         "teacher"
        ]
       ],
       "datasetInfos": [],
       "dbfsResultPath": null,
       "isJsonSchema": true,
       "metadata": {},
       "overflow": false,
       "plotOptions": {
        "customPlotOptions": {},
        "displayType": "table",
        "pivotAggregation": null,
        "pivotColumns": null,
        "xColumns": null,
        "yColumns": null
       },
       "removedWidgets": [],
       "schema": [
        {
         "metadata": "{}",
         "name": "name",
         "type": "\"string\""
        },
        {
         "metadata": "{}",
         "name": "occupation",
         "type": "\"string\""
        }
       ],
       "type": "table"
      }
     },
     "output_type": "display_data"
    }
   ],
   "source": [
    "#display data from topic\n",
    "df3 = dfread.withColumn('value', F.from_json(F.col('value').cast('string'), json_schema))  \\\n",
    "      .select(F.col(\"value.name\"),F.col(\"value.occupation\")) \n",
    "display(df3)"
   ]
  },
  {
   "cell_type": "markdown",
   "metadata": {
    "application/vnd.databricks.v1+cell": {
     "cellMetadata": {},
     "inputWidgets": {},
     "nuid": "a28179b0-bc22-4d1b-82bd-443359edbcb4",
     "showTitle": false,
     "title": ""
    }
   },
   "source": [
    "# 3. Stream"
   ]
  },
  {
   "cell_type": "code",
   "execution_count": 0,
   "metadata": {
    "application/vnd.databricks.v1+cell": {
     "cellMetadata": {
      "byteLimit": 2048000,
      "rowLimit": 10000
     },
     "inputWidgets": {},
     "nuid": "3f6726f0-f381-4359-9ce5-011a9858d7fd",
     "showTitle": false,
     "title": ""
    }
   },
   "outputs": [],
   "source": [
    "# Databricks notebook source\n",
    "import pyspark.sql.functions as F\n",
    "from  pyspark.sql.functions import col, struct, to_json\n",
    "from pyspark.sql.types import StructField, StructType, StringType, MapType\n"
   ]
  },
  {
   "cell_type": "code",
   "execution_count": 0,
   "metadata": {
    "application/vnd.databricks.v1+cell": {
     "cellMetadata": {
      "byteLimit": 2048000,
      "rowLimit": 10000
     },
     "inputWidgets": {},
     "nuid": "31805b92-431a-44db-b893-f6845371608d",
     "showTitle": false,
     "title": ""
    }
   },
   "outputs": [],
   "source": [
    "# COMMAND ----------\n",
    "\n",
    "#create streaming dataframe\n",
    "jsonSchema = StructType([ StructField(\"name\", StringType(), True), \n",
    "                         StructField(\"occupation\", StringType(), True) ])\n"
   ]
  },
  {
   "cell_type": "markdown",
   "metadata": {
    "application/vnd.databricks.v1+cell": {
     "cellMetadata": {},
     "inputWidgets": {},
     "nuid": "99955d9c-33c3-4ee6-bbd8-10ebd83ff037",
     "showTitle": false,
     "title": ""
    }
   },
   "source": [
    "3.1. Commented Code - This was used to create streaming json data"
   ]
  },
  {
   "cell_type": "code",
   "execution_count": 0,
   "metadata": {
    "application/vnd.databricks.v1+cell": {
     "cellMetadata": {
      "byteLimit": 2048000,
      "rowLimit": 10000
     },
     "inputWidgets": {},
     "nuid": "7ba7afe4-0115-40f5-afea-7470fd10ec63",
     "showTitle": false,
     "title": ""
    }
   },
   "outputs": [
    {
     "output_type": "stream",
     "name": "stdout",
     "output_type": "stream",
     "text": [
      "JSON file generated successfully.\n"
     ]
    }
   ],
   "source": [
    "# # write json file and save it \n",
    "# import json\n",
    "\n",
    "# # Generate data\n",
    "# dataDictionary = [\n",
    "#     ('James', 'driver'),\n",
    "#     ('Michael', 'teacher'),\n",
    "#     ('Robert', 'engineer'),\n",
    "#     ('Washington', 'architect'),\n",
    "#     ('Jefferson', 'CEO')\n",
    "# ]\n",
    "\n",
    "# # Generating more entries (for demonstration purposes)\n",
    "# for i in range(16):  # 20 total entries including the original 5\n",
    "#     dataDictionary.append(('Name' + str(i), 'Occupation' + str(i)))\n",
    "\n",
    "# # Convert data to dictionary\n",
    "# data = [{\"name\": name, \"occupation\": occupation} for name, occupation in dataDictionary]\n",
    "\n",
    "# # Write data to JSON file\n",
    "# with open(\"data.json\", \"w\") as json_file:\n",
    "#     json.dump(data, json_file, indent=4)\n",
    "\n",
    "# print(\"JSON file generated successfully.\")\n",
    "\n"
   ]
  },
  {
   "cell_type": "markdown",
   "metadata": {
    "application/vnd.databricks.v1+cell": {
     "cellMetadata": {},
     "inputWidgets": {},
     "nuid": "1276fb19-936c-44fe-b50b-03ef5486540b",
     "showTitle": false,
     "title": ""
    }
   },
   "source": [
    "## 3.2. Streaming Data to Kafka"
   ]
  },
  {
   "cell_type": "code",
   "execution_count": 0,
   "metadata": {
    "application/vnd.databricks.v1+cell": {
     "cellMetadata": {
      "byteLimit": 2048000,
      "rowLimit": 10000
     },
     "inputWidgets": {},
     "nuid": "cb370565-9434-4938-9a20-017f747b2f7e",
     "showTitle": false,
     "title": ""
    }
   },
   "outputs": [],
   "source": [
    "# MAGIC %fs head dbfs:/FileStore/databricks/data.json\n",
    "inputPath = \"dbfs:/FileStore/shared_uploads/arham.anwar@mail.mcgill.ca/\"\n",
    "streamingInputDF = (\n",
    "  spark\n",
    "    .readStream \n",
    "    .option(\"multiline\",\"true\")                      \n",
    "    .schema(jsonSchema)               # Set the schema of the JSON data\n",
    "    .option(\"maxFilesPerTrigger\", 1)  # Treat a sequence of files as a stream by picking one file at a time\n",
    "    .json(inputPath)\n",
    ")\n"
   ]
  },
  {
   "cell_type": "code",
   "execution_count": 0,
   "metadata": {
    "application/vnd.databricks.v1+cell": {
     "cellMetadata": {
      "byteLimit": 2048000,
      "rowLimit": 10000
     },
     "inputWidgets": {},
     "nuid": "ac77d416-c275-4ee9-8f40-3f4a9c05d4b8",
     "showTitle": false,
     "title": ""
    }
   },
   "outputs": [
    {
     "output_type": "display_data",
     "data": {
      "text/html": [
       "<style scoped>\n",
       "  .table-result-container {\n",
       "    max-height: 300px;\n",
       "    overflow: auto;\n",
       "  }\n",
       "  table, th, td {\n",
       "    border: 1px solid black;\n",
       "    border-collapse: collapse;\n",
       "  }\n",
       "  th, td {\n",
       "    padding: 5px;\n",
       "  }\n",
       "  th {\n",
       "    text-align: left;\n",
       "  }\n",
       "</style><div class='table-result-container'><table class='table-result'><thead style='background-color: white'><tr><th>key</th><th>value</th></tr></thead><tbody><tr><td>James</td><td>{\"name\":\"James\",\"occupation\":\"driver\"}</td></tr><tr><td>Michael</td><td>{\"name\":\"Michael\",\"occupation\":\"teacher\"}</td></tr><tr><td>Robert</td><td>{\"name\":\"Robert\",\"occupation\":\"engineer\"}</td></tr><tr><td>Washington</td><td>{\"name\":\"Washington\",\"occupation\":\"architect\"}</td></tr><tr><td>Jefferson</td><td>{\"name\":\"Jefferson\",\"occupation\":\"CEO\"}</td></tr><tr><td>Name0</td><td>{\"name\":\"Name0\",\"occupation\":\"Occupation0\"}</td></tr><tr><td>Name1</td><td>{\"name\":\"Name1\",\"occupation\":\"Occupation1\"}</td></tr><tr><td>Name2</td><td>{\"name\":\"Name2\",\"occupation\":\"Occupation2\"}</td></tr><tr><td>Name3</td><td>{\"name\":\"Name3\",\"occupation\":\"Occupation3\"}</td></tr><tr><td>Name4</td><td>{\"name\":\"Name4\",\"occupation\":\"Occupation4\"}</td></tr><tr><td>Name5</td><td>{\"name\":\"Name5\",\"occupation\":\"Occupation5\"}</td></tr><tr><td>Name6</td><td>{\"name\":\"Name6\",\"occupation\":\"Occupation6\"}</td></tr><tr><td>Name7</td><td>{\"name\":\"Name7\",\"occupation\":\"Occupation7\"}</td></tr><tr><td>Name8</td><td>{\"name\":\"Name8\",\"occupation\":\"Occupation8\"}</td></tr><tr><td>Name9</td><td>{\"name\":\"Name9\",\"occupation\":\"Occupation9\"}</td></tr><tr><td>Name10</td><td>{\"name\":\"Name10\",\"occupation\":\"Occupation10\"}</td></tr><tr><td>Name11</td><td>{\"name\":\"Name11\",\"occupation\":\"Occupation11\"}</td></tr><tr><td>Name12</td><td>{\"name\":\"Name12\",\"occupation\":\"Occupation12\"}</td></tr><tr><td>Name13</td><td>{\"name\":\"Name13\",\"occupation\":\"Occupation13\"}</td></tr><tr><td>Name14</td><td>{\"name\":\"Name14\",\"occupation\":\"Occupation14\"}</td></tr><tr><td>Name15</td><td>{\"name\":\"Name15\",\"occupation\":\"Occupation15\"}</td></tr></tbody></table></div>"
      ]
     },
     "metadata": {
      "application/vnd.databricks.v1+output": {
       "addedWidgets": {},
       "aggData": [],
       "aggError": "",
       "aggOverflow": false,
       "aggSchema": [],
       "aggSeriesLimitReached": false,
       "aggType": "",
       "arguments": {},
       "columnCustomDisplayInfos": {},
       "data": [
        [
         "James",
         "{\"name\":\"James\",\"occupation\":\"driver\"}"
        ],
        [
         "Michael",
         "{\"name\":\"Michael\",\"occupation\":\"teacher\"}"
        ],
        [
         "Robert",
         "{\"name\":\"Robert\",\"occupation\":\"engineer\"}"
        ],
        [
         "Washington",
         "{\"name\":\"Washington\",\"occupation\":\"architect\"}"
        ],
        [
         "Jefferson",
         "{\"name\":\"Jefferson\",\"occupation\":\"CEO\"}"
        ],
        [
         "Name0",
         "{\"name\":\"Name0\",\"occupation\":\"Occupation0\"}"
        ],
        [
         "Name1",
         "{\"name\":\"Name1\",\"occupation\":\"Occupation1\"}"
        ],
        [
         "Name2",
         "{\"name\":\"Name2\",\"occupation\":\"Occupation2\"}"
        ],
        [
         "Name3",
         "{\"name\":\"Name3\",\"occupation\":\"Occupation3\"}"
        ],
        [
         "Name4",
         "{\"name\":\"Name4\",\"occupation\":\"Occupation4\"}"
        ],
        [
         "Name5",
         "{\"name\":\"Name5\",\"occupation\":\"Occupation5\"}"
        ],
        [
         "Name6",
         "{\"name\":\"Name6\",\"occupation\":\"Occupation6\"}"
        ],
        [
         "Name7",
         "{\"name\":\"Name7\",\"occupation\":\"Occupation7\"}"
        ],
        [
         "Name8",
         "{\"name\":\"Name8\",\"occupation\":\"Occupation8\"}"
        ],
        [
         "Name9",
         "{\"name\":\"Name9\",\"occupation\":\"Occupation9\"}"
        ],
        [
         "Name10",
         "{\"name\":\"Name10\",\"occupation\":\"Occupation10\"}"
        ],
        [
         "Name11",
         "{\"name\":\"Name11\",\"occupation\":\"Occupation11\"}"
        ],
        [
         "Name12",
         "{\"name\":\"Name12\",\"occupation\":\"Occupation12\"}"
        ],
        [
         "Name13",
         "{\"name\":\"Name13\",\"occupation\":\"Occupation13\"}"
        ],
        [
         "Name14",
         "{\"name\":\"Name14\",\"occupation\":\"Occupation14\"}"
        ],
        [
         "Name15",
         "{\"name\":\"Name15\",\"occupation\":\"Occupation15\"}"
        ]
       ],
       "datasetInfos": [],
       "dbfsResultPath": null,
       "isJsonSchema": true,
       "metadata": {
        "isDbfsCommandResult": false
       },
       "overflow": false,
       "plotOptions": {
        "customPlotOptions": {},
        "displayType": "table",
        "pivotAggregation": null,
        "pivotColumns": null,
        "xColumns": null,
        "yColumns": null
       },
       "removedWidgets": [],
       "schema": [
        {
         "metadata": "{}",
         "name": "key",
         "type": "\"string\""
        },
        {
         "metadata": "{}",
         "name": "value",
         "type": "\"string\""
        }
       ],
       "type": "table"
      }
     },
     "output_type": "display_data"
    }
   ],
   "source": [
    "# COMMAND ----------\n",
    "\n",
    "display(streamingInputDF.selectExpr(\"name AS key\", \"to_json(struct(*)) AS value\"))\n"
   ]
  },
  {
   "cell_type": "markdown",
   "metadata": {
    "application/vnd.databricks.v1+cell": {
     "cellMetadata": {},
     "inputWidgets": {},
     "nuid": "c6e0440d-60ad-4005-a229-27fbeff35f9d",
     "showTitle": false,
     "title": ""
    }
   },
   "source": [
    "## Consuming Data from Kafka"
   ]
  },
  {
   "cell_type": "code",
   "execution_count": 0,
   "metadata": {
    "application/vnd.databricks.v1+cell": {
     "cellMetadata": {
      "byteLimit": 2048000,
      "rowLimit": 10000
     },
     "inputWidgets": {},
     "nuid": "0357f71a-5456-41df-9a1d-2a7cc8f07e94",
     "showTitle": false,
     "title": ""
    }
   },
   "outputs": [],
   "source": [
    "#push streaming data into kafka topic\n",
    "df= (streamingInputDF.selectExpr(\"name AS key\", \"to_json(struct(*)) AS value\") \\\n",
    "  .writeStream \\\n",
    "  .format(\"kafka\") \\\n",
    "  .option(\"kafka.bootstrap.servers\", bootstrap_servers) \\\n",
    "  .option(\"topic\", topic_name) \\\n",
    "  .option(\"kafka.security.protocol\",\"SASL_SSL\") \\\n",
    "  .option(\"kafka.sasl.mechanism\", \"PLAIN\") \\\n",
    "  .option(\"checkpointLocation\", \"dbfs:/FileStore/chekpoint/\")\n",
    "  .option(\"kafka.sasl.jaas.config\", \"\"\"kafkashaded.org.apache.kafka.common.security.plain.PlainLoginModule required username=\"6K7GG3OYQ7RUIEHR\" password=\"Cts0b2WPh8+WTVLypXyidYNBxh9YagMtzrmLX21y4DFVs8Xm6+++Z2G38f1eSTK6\";\"\"\") \\\n",
    "  .start()\n",
    ")"
   ]
  },
  {
   "cell_type": "code",
   "execution_count": 0,
   "metadata": {
    "application/vnd.databricks.v1+cell": {
     "cellMetadata": {},
     "inputWidgets": {},
     "nuid": "df6fde63-d37c-4bb9-94af-db89fccc18f7",
     "showTitle": false,
     "title": ""
    }
   },
   "outputs": [],
   "source": []
  }
 ],
 "metadata": {
  "application/vnd.databricks.v1+notebook": {
   "dashboards": [],
   "language": "python",
   "notebookMetadata": {
    "pythonIndentUnit": 4
   },
   "notebookName": "assignment1_v2",
   "widgets": {}
  }
 },
 "nbformat": 4,
 "nbformat_minor": 0
}
